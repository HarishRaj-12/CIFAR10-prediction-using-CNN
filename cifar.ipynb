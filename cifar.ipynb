{
  "cells": [
    {
      "cell_type": "markdown",
      "source": [
        "Mini Image Classification Using Convolutional Neural Network (CNN)"
      ],
      "metadata": {
        "id": "s7Dtw6x1_xYL"
      }
    },
    {
      "cell_type": "code",
      "execution_count": 1,
      "metadata": {
        "id": "Eyc34F-98eUF"
      },
      "outputs": [],
      "source": [
        "import pandas as pd\n",
        "import numpy as np\n",
        "import matplotlib.pyplot as plt\n",
        "from tensorflow.keras import datasets\n",
        "from tensorflow import keras\n",
        "import tensorflow as tf\n",
        "import seaborn as sn"
      ]
    },
    {
      "cell_type": "code",
      "execution_count": 2,
      "metadata": {
        "colab": {
          "base_uri": "https://localhost:8080/"
        },
        "id": "cbWo4HEc1AlF",
        "outputId": "f7d1db36-8f30-4139-f324-9f4027aa0cb7"
      },
      "outputs": [
        {
          "output_type": "stream",
          "name": "stdout",
          "text": [
            "Downloading data from https://www.cs.toronto.edu/~kriz/cifar-10-python.tar.gz\n",
            "170498071/170498071 [==============================] - 2s 0us/step\n"
          ]
        }
      ],
      "source": [
        "(x1,y1),(x2,y2)=datasets.cifar10.load_data()"
      ]
    },
    {
      "cell_type": "code",
      "execution_count": 3,
      "metadata": {
        "colab": {
          "base_uri": "https://localhost:8080/"
        },
        "id": "CjxY72ZL1gLH",
        "outputId": "53b304a1-9c23-4e22-8356-0980539af451"
      },
      "outputs": [
        {
          "output_type": "execute_result",
          "data": {
            "text/plain": [
              "(50000, 32, 32, 3)"
            ]
          },
          "metadata": {},
          "execution_count": 3
        }
      ],
      "source": [
        "x1.shape"
      ]
    },
    {
      "cell_type": "code",
      "execution_count": 4,
      "metadata": {
        "colab": {
          "base_uri": "https://localhost:8080/"
        },
        "id": "_hoqGO9v1ih_",
        "outputId": "ade4dd6e-2bc5-44b6-efb9-a75dbc3bc4b4"
      },
      "outputs": [
        {
          "output_type": "execute_result",
          "data": {
            "text/plain": [
              "(10000, 32, 32, 3)"
            ]
          },
          "metadata": {},
          "execution_count": 4
        }
      ],
      "source": [
        "x2.shape"
      ]
    },
    {
      "cell_type": "code",
      "execution_count": 5,
      "metadata": {
        "colab": {
          "base_uri": "https://localhost:8080/"
        },
        "id": "ZRGKzXKJ1l9p",
        "outputId": "6a6abca1-b9e2-430f-dec8-1e8bac359a5f"
      },
      "outputs": [
        {
          "output_type": "execute_result",
          "data": {
            "text/plain": [
              "((50000, 1), (10000, 1))"
            ]
          },
          "metadata": {},
          "execution_count": 5
        }
      ],
      "source": [
        "y1.shape,y2.shape"
      ]
    },
    {
      "cell_type": "code",
      "execution_count": 6,
      "metadata": {
        "colab": {
          "base_uri": "https://localhost:8080/"
        },
        "id": "w_BFQZAT1wYv",
        "outputId": "4da1dc67-babd-443f-c16a-61e05311e0ea"
      },
      "outputs": [
        {
          "output_type": "execute_result",
          "data": {
            "text/plain": [
              "array([[6],\n",
              "       [9],\n",
              "       [9],\n",
              "       [4],\n",
              "       [1]], dtype=uint8)"
            ]
          },
          "metadata": {},
          "execution_count": 6
        }
      ],
      "source": [
        "y1[:5]"
      ]
    },
    {
      "cell_type": "code",
      "execution_count": 7,
      "metadata": {
        "id": "Jh4FxNIl11ox"
      },
      "outputs": [],
      "source": [
        "y1=y1.reshape(-1,)\n",
        "y2=y2.reshape(-1,)"
      ]
    },
    {
      "cell_type": "code",
      "execution_count": 8,
      "metadata": {
        "colab": {
          "base_uri": "https://localhost:8080/"
        },
        "id": "w_dYRGJB16bC",
        "outputId": "e8672a90-4e55-4fa6-85b6-89d99c0954af"
      },
      "outputs": [
        {
          "output_type": "execute_result",
          "data": {
            "text/plain": [
              "array([6, 9, 9, 4, 1], dtype=uint8)"
            ]
          },
          "metadata": {},
          "execution_count": 8
        }
      ],
      "source": [
        "y1[:5]"
      ]
    },
    {
      "cell_type": "code",
      "execution_count": 9,
      "metadata": {
        "id": "oJvin2ri3APW"
      },
      "outputs": [],
      "source": [
        "classes = [\"airplane\",\"automobile\",\"bird\",\"cat\",\"deer\",\"dog\",\"frog\",\"horse\",\"ship\",\"truck\"]"
      ]
    },
    {
      "cell_type": "markdown",
      "source": [
        "return the image"
      ],
      "metadata": {
        "id": "i6NhJ-WXAkac"
      }
    },
    {
      "cell_type": "code",
      "execution_count": 20,
      "metadata": {
        "id": "jLHLti1l2AOG"
      },
      "outputs": [],
      "source": [
        "def plot(x,y,index):\n",
        "  plt.imshow(x[index])\n",
        "  plt.xlabel(classes[y[index]])"
      ]
    },
    {
      "cell_type": "code",
      "execution_count": 11,
      "metadata": {
        "colab": {
          "base_uri": "https://localhost:8080/",
          "height": 449
        },
        "id": "KekiHRuw2mn2",
        "outputId": "54ab63bc-c24b-4812-f7ab-f7ce67a30cca"
      },
      "outputs": [
        {
          "output_type": "display_data",
          "data": {
            "text/plain": [
              "<Figure size 640x480 with 1 Axes>"
            ],
            "image/png": "[encoded data removed]"
          },
          "metadata": {}
        }
      ],
      "source": [
        "plot(x1,y1,2)"
      ]
    },
    {
      "cell_type": "markdown",
      "source": [
        "Scaling the dataset"
      ],
      "metadata": {
        "id": "HTEwWzHmAxQx"
      }
    },
    {
      "cell_type": "code",
      "execution_count": 12,
      "metadata": {
        "id": "3_CLpoPoCKdV"
      },
      "outputs": [],
      "source": [
        "x1=x1/255\n",
        "x2=x2/255"
      ]
    },
    {
      "cell_type": "markdown",
      "source": [
        "Artificial Neural Network"
      ],
      "metadata": {
        "id": "DDKbyVdBA07h"
      }
    },
    {
      "cell_type": "code",
      "execution_count": 14,
      "metadata": {
        "id": "7b-dtqVj3bjC"
      },
      "outputs": [],
      "source": [
        "from keras.api._v2.keras import activations\n",
        "ann=tf.keras.Sequential([\n",
        "    keras.layers.Flatten(input_shape=( 32, 32, 3)),\n",
        "    keras.layers.Dense(3000,activation='relu'),\n",
        "    keras.layers.Dense(1000,activation='relu'),\n",
        "    keras.layers.Dense(10,activation='softmax')])\n",
        "ann.compile(optimizer='adam',\n",
        "            loss='sparse_categorical_crossentropy',\n",
        "            metrics=['accuracy'])"
      ]
    },
    {
      "cell_type": "code",
      "execution_count": 15,
      "metadata": {
        "colab": {
          "base_uri": "https://localhost:8080/"
        },
        "id": "xEi24DolB4EH",
        "outputId": "49d9a666-49f7-4d6e-8e60-850364099815"
      },
      "outputs": [
        {
          "output_type": "stream",
          "name": "stdout",
          "text": [
            "Epoch 1/5\n",
            "1563/1563 [==============================] - 343s 218ms/step - loss: 1.8757 - accuracy: 0.3306\n",
            "Epoch 2/5\n",
            "1563/1563 [==============================] - 314s 201ms/step - loss: 1.6554 - accuracy: 0.4096\n",
            "Epoch 3/5\n",
            "1563/1563 [==============================] - 308s 197ms/step - loss: 1.5787 - accuracy: 0.4348\n",
            "Epoch 4/5\n",
            "1563/1563 [==============================] - 307s 197ms/step - loss: 1.5235 - accuracy: 0.4540\n",
            "Epoch 5/5\n",
            "1563/1563 [==============================] - 308s 197ms/step - loss: 1.4861 - accuracy: 0.4673\n"
          ]
        },
        {
          "output_type": "execute_result",
          "data": {
            "text/plain": [
              "<keras.callbacks.History at 0x7f2fe5f2edf0>"
            ]
          },
          "metadata": {},
          "execution_count": 15
        }
      ],
      "source": [
        "ann.fit(x1,y1,epochs=5)"
      ]
    },
    {
      "cell_type": "markdown",
      "source": [
        "Using convolutional Neural Network"
      ],
      "metadata": {
        "id": "TStzkWMxA6WX"
      }
    },
    {
      "cell_type": "code",
      "execution_count": 16,
      "metadata": {
        "id": "MoYlS7ihDoav"
      },
      "outputs": [],
      "source": [
        "ann=tf.keras.Sequential([\n",
        "    keras.layers.Conv2D(filters=45,kernel_size=(3,3),activation='relu',input_shape=(32,32,3)),\n",
        "    keras.layers.MaxPooling2D((2,2)),\n",
        "    keras.layers.Conv2D(filters=70,kernel_size=(3,3),activation='relu'),\n",
        "    keras.layers.MaxPooling2D((2,2)),\n",
        "    keras.layers.Flatten(),\n",
        "    keras.layers.Dense(100,activation='relu'),\n",
        "    keras.layers.Dense(10,activation='softmax')])\n",
        "ann.compile(optimizer='adam',\n",
        "            loss='sparse_categorical_crossentropy',\n",
        "            metrics=['accuracy'])"
      ]
    },
    {
      "cell_type": "code",
      "execution_count": 17,
      "metadata": {
        "colab": {
          "base_uri": "https://localhost:8080/"
        },
        "id": "KkBGyvcDMlV9",
        "outputId": "619313e8-784d-41c7-e86c-29a92cb20109"
      },
      "outputs": [
        {
          "output_type": "stream",
          "name": "stdout",
          "text": [
            "Epoch 1/10\n",
            "1563/1563 [==============================] - 95s 60ms/step - loss: 1.3858 - accuracy: 0.5072\n",
            "Epoch 2/10\n",
            "1563/1563 [==============================] - 91s 58ms/step - loss: 1.0459 - accuracy: 0.6337\n",
            "Epoch 3/10\n",
            "1563/1563 [==============================] - 94s 60ms/step - loss: 0.9047 - accuracy: 0.6867\n",
            "Epoch 4/10\n",
            "1563/1563 [==============================] - 93s 60ms/step - loss: 0.8074 - accuracy: 0.7195\n",
            "Epoch 5/10\n",
            "1563/1563 [==============================] - 91s 58ms/step - loss: 0.7181 - accuracy: 0.7498\n",
            "Epoch 6/10\n",
            "1563/1563 [==============================] - 90s 58ms/step - loss: 0.6424 - accuracy: 0.7751\n",
            "Epoch 7/10\n",
            "1563/1563 [==============================] - 92s 59ms/step - loss: 0.5787 - accuracy: 0.7988\n",
            "Epoch 8/10\n",
            "1563/1563 [==============================] - 93s 59ms/step - loss: 0.5198 - accuracy: 0.8164\n",
            "Epoch 9/10\n",
            "1563/1563 [==============================] - 90s 58ms/step - loss: 0.4597 - accuracy: 0.8381\n",
            "Epoch 10/10\n",
            "1563/1563 [==============================] - 92s 59ms/step - loss: 0.4032 - accuracy: 0.8590\n"
          ]
        },
        {
          "output_type": "execute_result",
          "data": {
            "text/plain": [
              "<keras.callbacks.History at 0x7f2fdeb6c7f0>"
            ]
          },
          "metadata": {},
          "execution_count": 17
        }
      ],
      "source": [
        "ann.fit(x1,y1,epochs=10)"
      ]
    },
    {
      "cell_type": "markdown",
      "source": [
        "We can say that the CNN works better than the ANN"
      ],
      "metadata": {
        "id": "1fbvc0yxBGJL"
      }
    },
    {
      "cell_type": "code",
      "execution_count": 18,
      "metadata": {
        "colab": {
          "base_uri": "https://localhost:8080/"
        },
        "id": "9sPqt2tEMsSf",
        "outputId": "4c360c3c-7371-4feb-9648-71c73005b1f4"
      },
      "outputs": [
        {
          "output_type": "stream",
          "name": "stdout",
          "text": [
            "313/313 [==============================] - 6s 18ms/step\n"
          ]
        }
      ],
      "source": [
        "from sklearn.metrics import classification_report\n",
        "y_prid=[np.argmax(i) for i in ann.predict(x2)]"
      ]
    },
    {
      "cell_type": "code",
      "execution_count": 19,
      "metadata": {
        "colab": {
          "base_uri": "https://localhost:8080/"
        },
        "id": "40iUilmENMQx",
        "outputId": "3ad3d10a-92f1-49b1-c9c4-d44d0aef8d67"
      },
      "outputs": [
        {
          "output_type": "stream",
          "name": "stdout",
          "text": [
            "              precision    recall  f1-score   support\n",
            "\n",
            "           0       0.75      0.73      0.74      1000\n",
            "           1       0.84      0.80      0.82      1000\n",
            "           2       0.59      0.58      0.58      1000\n",
            "           3       0.54      0.49      0.51      1000\n",
            "           4       0.60      0.70      0.64      1000\n",
            "           5       0.66      0.57      0.61      1000\n",
            "           6       0.76      0.80      0.78      1000\n",
            "           7       0.73      0.78      0.75      1000\n",
            "           8       0.84      0.79      0.81      1000\n",
            "           9       0.76      0.82      0.79      1000\n",
            "\n",
            "    accuracy                           0.71     10000\n",
            "   macro avg       0.71      0.71      0.70     10000\n",
            "weighted avg       0.71      0.71      0.70     10000\n",
            "\n"
          ]
        }
      ],
      "source": [
        "print(classification_report(y2,y_prid))"
      ]
    },
    {
      "cell_type": "code",
      "execution_count": 19,
      "metadata": {
        "id": "PbLrYhJYNU7a"
      },
      "outputs": [],
      "source": []
    }
  ],
  "metadata": {
    "colab": {
      "provenance": []
    },
    "kernelspec": {
      "display_name": "Python 3",
      "name": "python3"
    },
    "language_info": {
      "name": "python"
    }
  },
  "nbformat": 4,
  "nbformat_minor": 0
}